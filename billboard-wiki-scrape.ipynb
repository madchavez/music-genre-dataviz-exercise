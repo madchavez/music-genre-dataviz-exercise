{
 "cells": [
  {
   "cell_type": "code",
   "execution_count": 5,
   "id": "fcedad36-6b7d-4718-87f5-3e590b8adeaa",
   "metadata": {},
   "outputs": [],
   "source": [
    "import pandas as pd\n",
    "import time\n",
    "import requests\n",
    "from bs4 import BeautifulSoup"
   ]
  },
  {
   "cell_type": "code",
   "execution_count": 12,
   "id": "1654043e-0795-4ea6-ba98-f4dc4e22ff32",
   "metadata": {},
   "outputs": [],
   "source": [
    "headers = {\n",
    "            'User-Agent': 'Mozilla/5.0 (Windows NT 10.0; Win64; x64) AppleWebKit/537.36 (KHTML, like Gecko) Chrome/91.0.4472.124 Safari/537.36'\n",
    "        }\n",
    "year = 2012"
   ]
  },
  {
   "cell_type": "code",
   "execution_count": 13,
   "id": "16aba744-c3d1-45a4-9bda-b99328f57ff0",
   "metadata": {},
   "outputs": [
    {
     "name": "stdout",
     "output_type": "stream",
     "text": [
      "Successfully saved data for 2012\n",
      "Successfully saved data for 2013\n",
      "Scraping complete!\n"
     ]
    }
   ],
   "source": [
    "while year < 2014:\n",
    "    try:\n",
    "        url = f\"https://en.wikipedia.org/wiki/Billboard_Year-End_Hot_100_singles_of_{year}\"\n",
    "        \n",
    "        # Fetch the page with proper headers\n",
    "        response = requests.get(url, headers=headers)\n",
    "        response.raise_for_status()  \n",
    "        \n",
    "        # Parse HTML and extract tables\n",
    "        soup = BeautifulSoup(response.text, 'html.parser')\n",
    "        tables = pd.read_html(str(soup))\n",
    "        \n",
    "        if len(tables) > 0:\n",
    "            yearly_data = tables[1]\n",
    "            yearly_data.to_csv(f\"billboard-year-end-top100-singles/billboard_{year}.csv\")\n",
    "            print(f\"Successfully saved data for {year}\")\n",
    "        else:\n",
    "            print(f\"No tables found for {year}\")\n",
    "            \n",
    "        # Respect rate limits - wait between requests\n",
    "        time.sleep(2)  # 2 second delay between requests\n",
    "        \n",
    "    except requests.exceptions.HTTPError as e:\n",
    "        if e.response.status_code == 429:\n",
    "            print(f\"Rate limited for {year}. Waiting longer and retrying...\")\n",
    "            time.sleep(60)  # Wait a full minute if rate limited\n",
    "            continue  # Try this year again\n",
    "        else:\n",
    "            print(f\"HTTP Error for {year}: {e}\")\n",
    "    except Exception as e:\n",
    "        print(f\"Error processing {year}: {e}\")\n",
    "    \n",
    "    year += 1\n",
    "\n",
    "print(\"Scraping complete!\")"
   ]
  },
  {
   "cell_type": "code",
   "execution_count": 11,
   "id": "e3247058-db3a-44a9-901f-63477ee324ba",
   "metadata": {},
   "outputs": [
    {
     "name": "stdout",
     "output_type": "stream",
     "text": [
      "   No.                           Title                       Artist(s)\n",
      "0    1  \"Somebody That I Used to Know\"          Gotye featuring Kimbra\n",
      "1    2                 \"Call Me Maybe\"                Carly Rae Jepsen\n",
      "2    3                  \"We Are Young\"     Fun featuring Janelle Monáe\n",
      "3    4                      \"Payphone\"  Maroon 5 featuring Wiz Khalifa\n",
      "4    5                        \"Lights\"                  Ellie Goulding\n"
     ]
    }
   ],
   "source": [
    "df = pd.read_html('https://en.wikipedia.org/wiki/Billboard_Year-End_Hot_100_singles_of_2012')[1]\n",
    "print(df.head())"
   ]
  },
  {
   "cell_type": "code",
   "execution_count": null,
   "id": "653d056c",
   "metadata": {},
   "outputs": [],
   "source": []
  }
 ],
 "metadata": {
  "kernelspec": {
   "display_name": "Python 3 (ipykernel)",
   "language": "python",
   "name": "python3"
  },
  "language_info": {
   "codemirror_mode": {
    "name": "ipython",
    "version": 3
   },
   "file_extension": ".py",
   "mimetype": "text/x-python",
   "name": "python",
   "nbconvert_exporter": "python",
   "pygments_lexer": "ipython3",
   "version": "3.9.12"
  }
 },
 "nbformat": 4,
 "nbformat_minor": 5
}
