{
 "cells": [
  {
   "cell_type": "code",
   "execution_count": null,
   "id": "696a0acf-c8a4-492d-9a0d-77722a250be1",
   "metadata": {},
   "outputs": [],
   "source": [
    "import pandas as pd"
   ]
  },
  {
   "cell_type": "code",
   "execution_count": null,
   "id": "b8f04bec-ccc0-4136-8264-29dbe6b3d9db",
   "metadata": {},
   "outputs": [],
   "source": [
    "df = pd.read_csv('cleaned-decades-genres')"
   ]
  },
  {
   "cell_type": "code",
   "execution_count": null,
   "id": "00a7d999-05cf-48c2-93e8-baae41838c2f",
   "metadata": {},
   "outputs": [],
   "source": [
    "df"
   ]
  },
  {
   "cell_type": "code",
   "execution_count": null,
   "id": "138410c5-ffaa-438e-b68b-076b54286314",
   "metadata": {},
   "outputs": [],
   "source": [
    "new_df = df.drop(columns=['Unnamed: 0.1', 'Unnamed: 0'])\n",
    "new_df"
   ]
  },
  {
   "cell_type": "code",
   "execution_count": null,
   "id": "1cb1dc8b-d069-425f-a0cf-12b3f27c30d3",
   "metadata": {},
   "outputs": [],
   "source": [
    "split_genres = []\n",
    "\n",
    "for i, data in new_df.iterrows():\n",
    "    dec = data['decade']\n",
    "    head = data['headers']\n",
    "    if head != 'Rock and roll':\n",
    "        genres = head.replace(' and ', ',').split(',')\n",
    "        for genre in genres:\n",
    "            gen = genre.lower()\n",
    "            print(gen)\n",
    "            split_genres.append([dec, gen])\n",
    "    else:\n",
    "        split_genres.append([dec, head.lower()])"
   ]
  },
  {
   "cell_type": "code",
   "execution_count": null,
   "id": "16c7aec4-7c10-4424-b998-f7e8754f0a3f",
   "metadata": {},
   "outputs": [],
   "source": [
    "wiki_genres = pd.DataFrame(split_genres, columns=['decade', 'genre'])"
   ]
  },
  {
   "cell_type": "code",
   "execution_count": null,
   "id": "36c8fd2c-f270-4d0c-8cb6-4db9956f67ea",
   "metadata": {},
   "outputs": [],
   "source": [
    "wiki_genres"
   ]
  },
  {
   "cell_type": "code",
   "execution_count": null,
   "id": "3cea53cd-09ad-4f7c-b9e5-32d2b0f50dd0",
   "metadata": {},
   "outputs": [],
   "source": [
    "wiki_genres.to_csv('wiki-genres.csv')"
   ]
  }
 ],
 "metadata": {
  "kernelspec": {
   "display_name": "Python [conda env:base] *",
   "language": "python",
   "name": "conda-base-py"
  },
  "language_info": {
   "codemirror_mode": {
    "name": "ipython",
    "version": 3
   },
   "file_extension": ".py",
   "mimetype": "text/x-python",
   "name": "python",
   "nbconvert_exporter": "python",
   "pygments_lexer": "ipython3",
   "version": "3.13.5"
  }
 },
 "nbformat": 4,
 "nbformat_minor": 5
}
