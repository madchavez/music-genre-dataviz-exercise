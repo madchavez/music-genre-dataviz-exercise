{
 "cells": [
  {
   "cell_type": "code",
   "execution_count": 1,
   "id": "696a0acf-c8a4-492d-9a0d-77722a250be1",
   "metadata": {},
   "outputs": [],
   "source": [
    "import pandas as pd"
   ]
  },
  {
   "cell_type": "code",
   "execution_count": null,
   "id": "b8f04bec-ccc0-4136-8264-29dbe6b3d9db",
   "metadata": {},
   "outputs": [],
   "source": [
    "df = pd.read_csv('cleaned-decades-genres')"
   ]
  },
  {
   "cell_type": "code",
   "execution_count": null,
   "id": "00a7d999-05cf-48c2-93e8-baae41838c2f",
   "metadata": {},
   "outputs": [],
   "source": [
    "df"
   ]
  },
  {
   "cell_type": "code",
   "execution_count": null,
   "id": "138410c5-ffaa-438e-b68b-076b54286314",
   "metadata": {},
   "outputs": [],
   "source": [
    "new_df = df.drop(columns=['Unnamed: 0.1', 'Unnamed: 0'])\n",
    "new_df"
   ]
  },
  {
   "cell_type": "code",
   "execution_count": null,
   "id": "1cb1dc8b-d069-425f-a0cf-12b3f27c30d3",
   "metadata": {},
   "outputs": [],
   "source": [
    "split_genres = []\n",
    "\n",
    "for i, data in new_df.iterrows():\n",
    "    dec = data['decade']\n",
    "    head = data['headers']\n",
    "    if head != 'Rock and roll':\n",
    "        genres = head.replace(' and ', ',').split(',')\n",
    "        for genre in genres:\n",
    "            gen = genre.lower()\n",
    "            print(gen)\n",
    "            split_genres.append([dec, gen])\n",
    "    else:\n",
    "        split_genres.append([dec, head.lower()])"
   ]
  },
  {
   "cell_type": "code",
   "execution_count": null,
   "id": "16c7aec4-7c10-4424-b998-f7e8754f0a3f",
   "metadata": {},
   "outputs": [],
   "source": [
    "wiki_genres = pd.DataFrame(split_genres, columns=['decade', 'genre'])"
   ]
  },
  {
   "cell_type": "code",
   "execution_count": null,
   "id": "36c8fd2c-f270-4d0c-8cb6-4db9956f67ea",
   "metadata": {},
   "outputs": [],
   "source": [
    "wiki_genres"
   ]
  },
  {
   "cell_type": "code",
   "execution_count": null,
   "id": "3cea53cd-09ad-4f7c-b9e5-32d2b0f50dd0",
   "metadata": {},
   "outputs": [],
   "source": [
    "wiki_genres.to_csv('wiki-genres.csv')"
   ]
  },
  {
   "cell_type": "code",
   "execution_count": 3,
   "id": "e58fe53c-2ceb-4019-a386-f16f3c49deb1",
   "metadata": {},
   "outputs": [
    {
     "data": {
      "text/html": [
       "<div>\n",
       "<style scoped>\n",
       "    .dataframe tbody tr th:only-of-type {\n",
       "        vertical-align: middle;\n",
       "    }\n",
       "\n",
       "    .dataframe tbody tr th {\n",
       "        vertical-align: top;\n",
       "    }\n",
       "\n",
       "    .dataframe thead th {\n",
       "        text-align: right;\n",
       "    }\n",
       "</style>\n",
       "<table border=\"1\" class=\"dataframe\">\n",
       "  <thead>\n",
       "    <tr style=\"text-align: right;\">\n",
       "      <th></th>\n",
       "      <th>Unnamed: 0</th>\n",
       "      <th>decade</th>\n",
       "      <th>genre</th>\n",
       "    </tr>\n",
       "  </thead>\n",
       "  <tbody>\n",
       "    <tr>\n",
       "      <th>0</th>\n",
       "      <td>0</td>\n",
       "      <td>1940s</td>\n",
       "      <td>pop</td>\n",
       "    </tr>\n",
       "    <tr>\n",
       "      <th>1</th>\n",
       "      <td>1</td>\n",
       "      <td>1940s</td>\n",
       "      <td>jazz</td>\n",
       "    </tr>\n",
       "    <tr>\n",
       "      <th>2</th>\n",
       "      <td>2</td>\n",
       "      <td>1950s</td>\n",
       "      <td>rock and roll</td>\n",
       "    </tr>\n",
       "    <tr>\n",
       "      <th>3</th>\n",
       "      <td>3</td>\n",
       "      <td>1950s</td>\n",
       "      <td>classic pop</td>\n",
       "    </tr>\n",
       "    <tr>\n",
       "      <th>4</th>\n",
       "      <td>4</td>\n",
       "      <td>1950s</td>\n",
       "      <td>blues</td>\n",
       "    </tr>\n",
       "    <tr>\n",
       "      <th>...</th>\n",
       "      <td>...</td>\n",
       "      <td>...</td>\n",
       "      <td>...</td>\n",
       "    </tr>\n",
       "    <tr>\n",
       "      <th>207</th>\n",
       "      <td>207</td>\n",
       "      <td>2020s</td>\n",
       "      <td>hard rock</td>\n",
       "    </tr>\n",
       "    <tr>\n",
       "      <th>208</th>\n",
       "      <td>208</td>\n",
       "      <td>2020s</td>\n",
       "      <td>heavy metal</td>\n",
       "    </tr>\n",
       "    <tr>\n",
       "      <th>209</th>\n",
       "      <td>209</td>\n",
       "      <td>2020s</td>\n",
       "      <td>punk rock</td>\n",
       "    </tr>\n",
       "    <tr>\n",
       "      <th>210</th>\n",
       "      <td>210</td>\n",
       "      <td>2020s</td>\n",
       "      <td>shoegaze</td>\n",
       "    </tr>\n",
       "    <tr>\n",
       "      <th>211</th>\n",
       "      <td>211</td>\n",
       "      <td>2020s</td>\n",
       "      <td>hyperpop</td>\n",
       "    </tr>\n",
       "  </tbody>\n",
       "</table>\n",
       "<p>212 rows × 3 columns</p>\n",
       "</div>"
      ],
      "text/plain": [
       "     Unnamed: 0 decade          genre\n",
       "0             0  1940s            pop\n",
       "1             1  1940s           jazz\n",
       "2             2  1950s  rock and roll\n",
       "3             3  1950s    classic pop\n",
       "4             4  1950s          blues\n",
       "..          ...    ...            ...\n",
       "207         207  2020s      hard rock\n",
       "208         208  2020s    heavy metal\n",
       "209         209  2020s      punk rock\n",
       "210         210  2020s       shoegaze\n",
       "211         211  2020s       hyperpop\n",
       "\n",
       "[212 rows x 3 columns]"
      ]
     },
     "execution_count": 3,
     "metadata": {},
     "output_type": "execute_result"
    }
   ],
   "source": [
    "df = pd.read_csv('wiki-genres.csv')\n",
    "df"
   ]
  },
  {
   "cell_type": "code",
   "execution_count": null,
   "id": "edf742f9-65fd-421f-a150-5862eb908490",
   "metadata": {},
   "outputs": [],
   "source": [
    "new_df = "
   ]
  }
 ],
 "metadata": {
  "kernelspec": {
   "display_name": "Python [conda env:base] *",
   "language": "python",
   "name": "conda-base-py"
  },
  "language_info": {
   "codemirror_mode": {
    "name": "ipython",
    "version": 3
   },
   "file_extension": ".py",
   "mimetype": "text/x-python",
   "name": "python",
   "nbconvert_exporter": "python",
   "pygments_lexer": "ipython3",
   "version": "3.13.5"
  }
 },
 "nbformat": 4,
 "nbformat_minor": 5
}
